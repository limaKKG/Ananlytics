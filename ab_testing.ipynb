{
 "cells": [
  {
   "cell_type": "code",
   "execution_count": 2,
   "id": "084c522a",
   "metadata": {},
   "outputs": [],
   "source": [
    "import numpy as np\n",
    "from scipy.stats import norm, t"
   ]
  },
  {
   "cell_type": "code",
   "execution_count": 3,
   "id": "a501d151",
   "metadata": {},
   "outputs": [
    {
     "data": {
      "text/plain": [
       "0.12529069984918345"
      ]
     },
     "execution_count": 3,
     "metadata": {},
     "output_type": "execute_result"
    }
   ],
   "source": [
    "def estimate_effect_size(std, n, alpha=0.05, power=0.8):\n",
    "    \"\"\"\n",
    "    Расчет MDE для контроля/пилота 50/50, одинаковые std и n\n",
    "    \n",
    "    :param std: стандартной отклонение одной группы\n",
    "    :param n: размер выбрки в одной группе\n",
    "    :return: MDE\n",
    "    \"\"\"\n",
    "    S = np.sqrt((std**2 / n) + (std**2 / n))\n",
    "    M = norm.ppf(q=1-alpha/2) + norm.ppf(q=power)\n",
    "    return M * S\n",
    "\n",
    "\n",
    "n = 1000\n",
    "std = 1\n",
    "estimate_effect_size(std, n)"
   ]
  },
  {
   "attachments": {},
   "cell_type": "markdown",
   "id": "79987cca",
   "metadata": {},
   "source": [
    "То есть `effect_size` < 0.17 будет обладать мощностью меньше 80%"
   ]
  },
  {
   "cell_type": "code",
   "execution_count": 4,
   "id": "4db9bce9",
   "metadata": {},
   "outputs": [
    {
     "data": {
      "text/plain": [
       "500.0"
      ]
     },
     "execution_count": 4,
     "metadata": {},
     "output_type": "execute_result"
    }
   ],
   "source": [
    "def estimate_sample_size(effect_size, std, alpha=0.05, power=0.8):\n",
    "    \"\"\"\n",
    "    Расчет N для контроля/пилота 50/50, одинаковые std и n\n",
    "    :param std: ско одной группы\n",
    "    :param effect_size: ожидаемое изменение метрики\n",
    "    :return: N для одной группы\n",
    "    \"\"\"\n",
    "    M = (norm.ppf(q=1-alpha/2) + norm.ppf(q=power))**2\n",
    "    return 2 * M * std**2 / effect_size**2 \n",
    "\n",
    "effect_size = 0.17718780696593192\n",
    "std = 1\n",
    "estimate_sample_size(effect_size, std)"
   ]
  },
  {
   "attachments": {},
   "cell_type": "markdown",
   "id": "997c0e49",
   "metadata": {},
   "source": [
    "Есть специальная функция !"
   ]
  },
  {
   "cell_type": "code",
   "execution_count": 5,
   "id": "6d1c8d99",
   "metadata": {},
   "outputs": [],
   "source": [
    "from statsmodels.stats.power import tt_ind_solve_power "
   ]
  },
  {
   "cell_type": "code",
   "execution_count": 6,
   "id": "f6b75a1a",
   "metadata": {},
   "outputs": [
    {
     "name": "stdout",
     "output_type": "stream",
     "text": [
      "\n",
      "estimate_sample_size: 500.0\n",
      "estimate_effect_size: 0.17718780696593192\n",
      "tt_ind_solve_power nobs: 500.96095684136526\n",
      "tt_ind_solve_power effect_size: 0.17735842307242328\n",
      "\n"
     ]
    }
   ],
   "source": [
    "n = 500\n",
    "alpha = 0.05\n",
    "power = 0.8\n",
    "sd = 1\n",
    "effect_size = 0.17718780696593192\n",
    "\n",
    "print(f\"\"\"\n",
    "estimate_sample_size: {estimate_sample_size(effect_size, sd)}\n",
    "estimate_effect_size: {estimate_effect_size(sd, n)}\n",
    "tt_ind_solve_power nobs: {\n",
    "    tt_ind_solve_power(\n",
    "        effect_size=effect_size,\n",
    "        alpha=alpha, \n",
    "        power=power, \n",
    "        ratio=1\n",
    "    )\n",
    "}\n",
    "tt_ind_solve_power effect_size: {\n",
    "    tt_ind_solve_power(\n",
    "        nobs1=n, \n",
    "        alpha=alpha, \n",
    "        power=power, \n",
    "        ratio=1\n",
    "    )\n",
    "}\n",
    "\"\"\")"
   ]
  },
  {
   "attachments": {},
   "cell_type": "markdown",
   "id": "a9b219fc",
   "metadata": {},
   "source": [
    "_____________________________________________________________________________________________________________________"
   ]
  },
  {
   "attachments": {},
   "cell_type": "markdown",
   "id": "5f807aee",
   "metadata": {},
   "source": [
    "Критерий Стьюдента (t-test)"
   ]
  },
  {
   "cell_type": "code",
   "execution_count": 7,
   "id": "8a68c170",
   "metadata": {},
   "outputs": [
    {
     "name": "stdout",
     "output_type": "stream",
     "text": [
      "T-score:  -2.2546817662542815\n",
      "T-critical:  1.9872898646909385\n",
      "P_value:  1.9733648548654044\n",
      "Confidence Interval of 2 sample Z-test:  [-0.98 -0.06]\n"
     ]
    }
   ],
   "source": [
    "N_a = 20\n",
    "df_a = N_a - 1 # Кол-во степеней свободы для контрольной группы А\n",
    "N_b = 70 # варьируем\n",
    "df_b = N_b - 1 # Кол-во степеней свободы для экспериментальной группы B\n",
    "\n",
    "# Уровень значимости\n",
    "alpha = 0.05\n",
    "\n",
    "# Генерируем t-распределение с параметрами контрольной группы А\n",
    "X_a = np.random.standard_t(df_a,N_a)\n",
    "# Генерируем t-распределение с параметрами экспериментальной группы B\n",
    "X_b = np.random.standard_t(df_b,N_b)\n",
    "\n",
    "# Среднее значение метрики в контрольной группе А\n",
    "mu_a = np.mean(X_a)\n",
    "# Среднее значение метрики в экспериментальной группе B\n",
    "mu_b = np.mean(X_b)\n",
    "\n",
    "# Выборочная дисперсия метрики в контрольной группе А\n",
    "sigma_sqr_a = np.var(X_a)\n",
    "# Выборочная дисперсия метрики в экспериментальной группе B\n",
    "sigma_sqr_b = np.var(X_b)\n",
    "\n",
    "# Взвещенная выборочная дисперсия \n",
    "pooled_variance_t_test = (\n",
    "    (N_a-1)*sigma_sqr_a + (N_b -1) * sigma_sqr_b\n",
    ")/(N_a + N_b-2)*(1/N_a + 1/N_b)\n",
    "\n",
    "# Взвещенное выборочное стандартное отклонение\n",
    "SE = np.sqrt(pooled_variance_t_test)\n",
    "\n",
    "# Тестовая статистика\n",
    "T = (mu_a-mu_b)/SE\n",
    "\n",
    "# Критическое значение теста для 2-сторонней гипотезы (распределение стьюдента)\n",
    "t_crit = t.ppf(1-alpha/2, N_a + N_b - 2)\n",
    "\n",
    "# P-value для 2-сторонней гипотезы (симметрично)\n",
    "p_value = t.sf(T, N_a + N_b - 2)*2\n",
    "\n",
    "# Отклонение\n",
    "margin_error = t_crit * SE\n",
    "# Доверительный интервал\n",
    "CI = [(mu_a-mu_b) - margin_error, (mu_a-mu_b) + margin_error]\n",
    "\n",
    "print(\"T-score: \", T)\n",
    "print(\"T-critical: \", t_crit)\n",
    "print(\"P_value: \", p_value)\n",
    "print(\"Confidence Interval of 2 sample Z-test: \", np.round(CI,2))"
   ]
  },
  {
   "cell_type": "code",
   "execution_count": 7,
   "id": "19c4183b",
   "metadata": {},
   "outputs": [],
   "source": [
    "from scipy.stats import ttest_ind, mannwhitneyu"
   ]
  },
  {
   "cell_type": "code",
   "execution_count": 8,
   "id": "98aed980",
   "metadata": {},
   "outputs": [
    {
     "data": {
      "text/plain": [
       "Ttest_indResult(statistic=0.8814210412007593, pvalue=0.38049109569885464)"
      ]
     },
     "execution_count": 8,
     "metadata": {},
     "output_type": "execute_result"
    }
   ],
   "source": [
    "ttest_ind(\n",
    "    X_a, \n",
    "    X_b,\n",
    "    equal_var=True,\n",
    "    nan_policy='propagate',\n",
    "    alternative='two-sided'\n",
    ")"
   ]
  },
  {
   "attachments": {},
   "cell_type": "markdown",
   "id": "1e15e18e",
   "metadata": {},
   "source": [
    "Непараметрический тест Манна-Уитни"
   ]
  },
  {
   "cell_type": "code",
   "execution_count": 9,
   "id": "cd65491f",
   "metadata": {},
   "outputs": [
    {
     "data": {
      "text/plain": [
       "MannwhitneyuResult(statistic=798.0, pvalue=0.34401594258029133)"
      ]
     },
     "execution_count": 9,
     "metadata": {},
     "output_type": "execute_result"
    }
   ],
   "source": [
    "mannwhitneyu(\n",
    "    X_a, \n",
    "    X_b,\n",
    "#     nan_policy='propagate',\n",
    "#     alternative='two-sided'\n",
    ")"
   ]
  },
  {
   "attachments": {},
   "cell_type": "markdown",
   "id": "1c37e1c9",
   "metadata": {},
   "source": [
    "`p-val` > 0.05  ==> H0 принимаем на этом уровне значимости => различий стат-значимых нет"
   ]
  },
  {
   "attachments": {},
   "cell_type": "markdown",
   "id": "a763c34e",
   "metadata": {},
   "source": [
    "________________________________________________________________________________________________________"
   ]
  },
  {
   "cell_type": "code",
   "execution_count": 10,
   "id": "26c6bbc8",
   "metadata": {},
   "outputs": [
    {
     "name": "stdout",
     "output_type": "stream",
     "text": [
      "reject the null\n",
      "7.832495206930039e-11\n",
      "Test Statistics stat:  6.503782823926798\n",
      "Z-critical:  1.959963984540054\n",
      "P_value:  7.832495206930039e-11\n",
      "Confidence Interval of 2 sample Z-test for proportions:  [0.02 0.04]\n"
     ]
    },
    {
     "data": {
      "image/png": "[encoded data removed]",
      "text/plain": [
       "<Figure size 432x288 with 1 Axes>"
      ]
     },
     "metadata": {
      "needs_background": "light"
     },
     "output_type": "display_data"
    }
   ],
   "source": [
    "X_a = 1242 # кол-во кликов в контрольной группе А\n",
    "N_a = 9886 # кол-во показов в контрольной группе А\n",
    "X_b = 974 # кол-во кликов в экспериментальной группе B\n",
    "N_b = 10072  # кол-во показов в экспериментальной группе B\n",
    "\n",
    "# Уровень значимости\n",
    "alpha = 0.05\n",
    "\n",
    "p_a_hat = X_a / N_a\n",
    "p_b_hat = X_b / N_b\n",
    "\n",
    "p_pooled_hat = (X_a + X_b)/(N_a + N_b)\n",
    "pooled_variance = p_pooled_hat*(1-p_pooled_hat) * (1/N_a + 1/N_b)\n",
    "\n",
    "# Выборочное стандартное отклонение\n",
    "SE = np.sqrt(pooled_variance)\n",
    "\n",
    "# Тестовая статистика\n",
    "Test_stat = (p_a_hat - p_b_hat)/SE\n",
    "# Критическое значение теста для 2-сторонней гипотезы (из норм распределения)\n",
    "Z_crit = norm.ppf(1-alpha/2)\n",
    "\n",
    "# Отклонение (ширина доверительного интервала)\n",
    "# P-value для 2-сторонней гипотезы (симметрично)=> умножаем на два (для правой и левой крит-области)\n",
    "p_value = norm.sf(Test_stat)*2\n",
    "\n",
    "# Доверительный интервал\n",
    "CI = [(p_a_hat-p_b_hat) - SE * Z_crit, (p_a_hat-p_b_hat) + SE * Z_crit]\n",
    "\n",
    "if np.abs(Test_stat) >= Z_crit:\n",
    "    print(\"reject the null\")\n",
    "    print(p_value)\n",
    "\n",
    "print(\"Test Statistics stat: \", Test_stat)\n",
    "print(\"Z-critical: \", Z_crit)\n",
    "print(\"P_value: \", p_value)\n",
    "print(\"Confidence Interval of 2 sample Z-test for proportions: \", np.round(CI,2))\n",
    "\n",
    "import matplotlib.pyplot as plt\n",
    "z = np.arange(-3,3,  0.1)\n",
    "plt.plot(z, norm.pdf(z), label = 'Standard Normal Distribution',color = 'red',linewidth = 2.5)\n",
    "plt.fill_between(z[z>Z_crit], norm.pdf(z[z>Z_crit]), label = 'Right Rejection Region',color ='y' )\n",
    "plt.fill_between(z[z<(-1)*Z_crit], norm.pdf(z[z<(-1)*Z_crit]), label = 'Left Rejection Region',color ='y' )\n",
    "plt.title(\"Two Sample Z-test rejection region\")\n",
    "plt.legend()\n",
    "plt.show()"
   ]
  },
  {
   "cell_type": "code",
   "execution_count": 11,
   "id": "ffa67f4e",
   "metadata": {},
   "outputs": [
    {
     "data": {
      "text/plain": [
       "(0.12563220716164272, 0.09670373312152503)"
      ]
     },
     "execution_count": 11,
     "metadata": {},
     "output_type": "execute_result"
    }
   ],
   "source": [
    "p_a_hat, p_b_hat "
   ]
  },
  {
   "cell_type": "code",
   "execution_count": 12,
   "id": "59a6c84a",
   "metadata": {},
   "outputs": [],
   "source": [
    "from statsmodels.stats.proportion import proportions_ztest"
   ]
  },
  {
   "cell_type": "code",
   "execution_count": 13,
   "id": "3f5b4109",
   "metadata": {},
   "outputs": [],
   "source": [
    "test_stat, p_value = proportions_ztest(np.array([X_a, X_b]), np.array([N_a, N_b]))"
   ]
  },
  {
   "cell_type": "code",
   "execution_count": 14,
   "id": "1d0b9df9",
   "metadata": {},
   "outputs": [
    {
     "data": {
      "text/plain": [
       "7.832495206930039e-11"
      ]
     },
     "execution_count": 14,
     "metadata": {},
     "output_type": "execute_result"
    }
   ],
   "source": [
    "p_value"
   ]
  },
  {
   "attachments": {},
   "cell_type": "markdown",
   "id": "d8802cce",
   "metadata": {},
   "source": [
    "____________________________________________________________________________________________________________"
   ]
  },
  {
   "cell_type": "code",
   "execution_count": 15,
   "id": "cc272f9f",
   "metadata": {},
   "outputs": [],
   "source": [
    "import pandas as pd\n",
    "import matplotlib.pyplot as plt"
   ]
  },
  {
   "attachments": {},
   "cell_type": "markdown",
   "id": "66548bbc",
   "metadata": {},
   "source": [
    "____________________________________________________________________________________________________________"
   ]
  },
  {
   "attachments": {},
   "cell_type": "markdown",
   "id": "8471eff5",
   "metadata": {},
   "source": [
    "# Sampling"
   ]
  },
  {
   "attachments": {},
   "cell_type": "markdown",
   "id": "d9ad5fd9",
   "metadata": {},
   "source": [
    "### Random Sampling"
   ]
  },
  {
   "cell_type": "code",
   "execution_count": 16,
   "id": "51019cfe",
   "metadata": {},
   "outputs": [
    {
     "data": {
      "text/plain": [
       "(array([12.95787816, 11.08679898, 10.11749364, ..., 12.15965363,\n",
       "         9.40635423, 15.17829621]),\n",
       " array([10.48497525, 10.63452872,  8.61340529, ..., 11.46466838,\n",
       "        10.43686272,  9.25934982]),\n",
       " 3000,\n",
       " 3000)"
      ]
     },
     "execution_count": 16,
     "metadata": {},
     "output_type": "execute_result"
    }
   ],
   "source": [
    "N = 10000\n",
    "mu = 10\n",
    "std = 2\n",
    "population_df = np.random.normal(mu, std, N)\n",
    "\n",
    "def random_sampling(df, n):\n",
    "    random_sample = np.random.choice(df, replace = True, size = n)\n",
    "    return(random_sample)\n",
    "n = 3000\n",
    "random_sample_1 = random_sampling(population_df, n)\n",
    "random_sample_2 = random_sampling(population_df, n)\n",
    "random_sample_1, random_sample_2, len(random_sample_1), len(random_sample_2)"
   ]
  },
  {
   "attachments": {},
   "cell_type": "markdown",
   "id": "a9bcefd4",
   "metadata": {},
   "source": [
    "### Systematic Sampling"
   ]
  },
  {
   "cell_type": "code",
   "execution_count": 17,
   "id": "69f93837",
   "metadata": {},
   "outputs": [
    {
     "data": {
      "text/plain": [
       "(          id       data\n",
       " 1        2.0   8.576719\n",
       " 1001  1002.0   7.493966\n",
       " 2001  2002.0  11.313731\n",
       " 3001  3002.0  10.159277\n",
       " 4001  4002.0  11.105986\n",
       " 5001  5002.0  12.358174\n",
       " 6001  6002.0  13.694276\n",
       " 7001  7002.0  10.543882\n",
       " 8001  8002.0   8.169097\n",
       " 9001  9002.0   7.895977,\n",
       "           id       data\n",
       " 1        2.0   8.576719\n",
       " 501    502.0   8.702572\n",
       " 1001  1002.0   7.493966\n",
       " 1501  1502.0  10.581551\n",
       " 2001  2002.0  11.313731\n",
       " 2501  2502.0  11.078108\n",
       " 3001  3002.0  10.159277\n",
       " 3501  3502.0  12.491351\n",
       " 4001  4002.0  11.105986\n",
       " 4501  4502.0   9.429636\n",
       " 5001  5002.0  12.358174\n",
       " 5501  5502.0   6.728822\n",
       " 6001  6002.0  13.694276\n",
       " 6501  6502.0   8.754997\n",
       " 7001  7002.0  10.543882\n",
       " 7501  7502.0   9.715693\n",
       " 8001  8002.0   8.169097\n",
       " 8501  8502.0  10.322268\n",
       " 9001  9002.0   7.895977\n",
       " 9501  9502.0   6.455091)"
      ]
     },
     "execution_count": 17,
     "metadata": {},
     "output_type": "execute_result"
    }
   ],
   "source": [
    "N = 10000\n",
    "mu = 10\n",
    "std = 2\n",
    "population_df = np.random.normal(mu, std, N)\n",
    "\n",
    "def systematic_sampling(df, step):\n",
    "    id = pd.Series(np.arange(1,len(df),1))\n",
    "    df = pd.Series(df)\n",
    "    df_pd = pd.concat([id, df], axis = 1)\n",
    "    df_pd.columns = [\"id\", \"data\"]\n",
    "    \n",
    "    selected_index = np.arange(1, len(df), step)\n",
    "    \n",
    "    systematic_sampling = df_pd.iloc[selected_index]\n",
    "    return(systematic_sampling)\n",
    "\n",
    "n_1 = 10\n",
    "n_2 = 20\n",
    "step_1 = int(N/n_1)\n",
    "step_2 = int(N/n_2)\n",
    "sample_1 = systematic_sampling(population_df, step_1)\n",
    "sample_2 = systematic_sampling(population_df, step_2)\n",
    "sample_1, sample_2"
   ]
  },
  {
   "attachments": {},
   "cell_type": "markdown",
   "id": "13c97f92",
   "metadata": {},
   "source": [
    "### Cluster Sampling"
   ]
  },
  {
   "cell_type": "code",
   "execution_count": 18,
   "id": "237713df",
   "metadata": {},
   "outputs": [
    {
     "data": {
      "text/html": [
       "<div>\n",
       "<style scoped>\n",
       "    .dataframe tbody tr th:only-of-type {\n",
       "        vertical-align: middle;\n",
       "    }\n",
       "\n",
       "    .dataframe tbody tr th {\n",
       "        vertical-align: top;\n",
       "    }\n",
       "\n",
       "    .dataframe thead th {\n",
       "        text-align: right;\n",
       "    }\n",
       "</style>\n",
       "<table border=\"1\" class=\"dataframe\">\n",
       "  <thead>\n",
       "    <tr style=\"text-align: right;\">\n",
       "      <th></th>\n",
       "      <th>id</th>\n",
       "      <th>price</th>\n",
       "      <th>event_type</th>\n",
       "      <th>click</th>\n",
       "    </tr>\n",
       "  </thead>\n",
       "  <tbody>\n",
       "    <tr>\n",
       "      <th>0</th>\n",
       "      <td>0</td>\n",
       "      <td>1.749574</td>\n",
       "      <td>type2</td>\n",
       "      <td>1</td>\n",
       "    </tr>\n",
       "    <tr>\n",
       "      <th>1</th>\n",
       "      <td>1</td>\n",
       "      <td>1.303651</td>\n",
       "      <td>type1</td>\n",
       "      <td>0</td>\n",
       "    </tr>\n",
       "    <tr>\n",
       "      <th>2</th>\n",
       "      <td>2</td>\n",
       "      <td>2.174257</td>\n",
       "      <td>type2</td>\n",
       "      <td>0</td>\n",
       "    </tr>\n",
       "    <tr>\n",
       "      <th>3</th>\n",
       "      <td>3</td>\n",
       "      <td>2.796666</td>\n",
       "      <td>type2</td>\n",
       "      <td>1</td>\n",
       "    </tr>\n",
       "    <tr>\n",
       "      <th>4</th>\n",
       "      <td>4</td>\n",
       "      <td>3.024540</td>\n",
       "      <td>type2</td>\n",
       "      <td>1</td>\n",
       "    </tr>\n",
       "    <tr>\n",
       "      <th>...</th>\n",
       "      <td>...</td>\n",
       "      <td>...</td>\n",
       "      <td>...</td>\n",
       "      <td>...</td>\n",
       "    </tr>\n",
       "    <tr>\n",
       "      <th>9995</th>\n",
       "      <td>9995</td>\n",
       "      <td>1.424448</td>\n",
       "      <td>type1</td>\n",
       "      <td>1</td>\n",
       "    </tr>\n",
       "    <tr>\n",
       "      <th>9996</th>\n",
       "      <td>9996</td>\n",
       "      <td>3.404156</td>\n",
       "      <td>type3</td>\n",
       "      <td>0</td>\n",
       "    </tr>\n",
       "    <tr>\n",
       "      <th>9997</th>\n",
       "      <td>9997</td>\n",
       "      <td>1.859556</td>\n",
       "      <td>type2</td>\n",
       "      <td>0</td>\n",
       "    </tr>\n",
       "    <tr>\n",
       "      <th>9998</th>\n",
       "      <td>9998</td>\n",
       "      <td>2.706640</td>\n",
       "      <td>type2</td>\n",
       "      <td>0</td>\n",
       "    </tr>\n",
       "    <tr>\n",
       "      <th>9999</th>\n",
       "      <td>9999</td>\n",
       "      <td>1.923668</td>\n",
       "      <td>type2</td>\n",
       "      <td>0</td>\n",
       "    </tr>\n",
       "  </tbody>\n",
       "</table>\n",
       "<p>10000 rows × 4 columns</p>\n",
       "</div>"
      ],
      "text/plain": [
       "        id     price event_type  click\n",
       "0        0  1.749574      type2      1\n",
       "1        1  1.303651      type1      0\n",
       "2        2  2.174257      type2      0\n",
       "3        3  2.796666      type2      1\n",
       "4        4  3.024540      type2      1\n",
       "...    ...       ...        ...    ...\n",
       "9995  9995  1.424448      type1      1\n",
       "9996  9996  3.404156      type3      0\n",
       "9997  9997  1.859556      type2      0\n",
       "9998  9998  2.706640      type2      0\n",
       "9999  9999  1.923668      type2      0\n",
       "\n",
       "[10000 rows x 4 columns]"
      ]
     },
     "execution_count": 18,
     "metadata": {},
     "output_type": "execute_result"
    }
   ],
   "source": [
    "price_vb = pd.Series(np.random.uniform(1,4,size = N))\n",
    "id = pd.Series(np.arange(0, len(price_vb),1))\n",
    "event_type = pd.Series(np.random.choice([\"type1\", \"type2\", \"type3\"],size = len(price_vb)))\n",
    "click = pd.Series(np.random.choice([0,1], size = len(price_vb)))\n",
    "df = pd.concat([id, price_vb, event_type, click],axis = 1)\n",
    "df.columns = [\"id\", \"price\", \"event_type\", \"click\"]\n",
    "df"
   ]
  },
  {
   "cell_type": "code",
   "execution_count": 19,
   "id": "d567fe44",
   "metadata": {},
   "outputs": [
    {
     "data": {
      "text/plain": [
       "(        id     price event_type  click  cluster\n",
       " 4712  4712  2.039724      type2      1       72\n",
       " 7138  7138  1.003519      type3      0       72\n",
       " 6770  6770  3.834418      type2      1       72\n",
       " 4617  4617  2.434569      type1      0       72\n",
       " 5517  5517  1.764715      type3      1       72\n",
       " ...    ...       ...        ...    ...      ...\n",
       " 9869  9869  3.313602      type2      1       77\n",
       " 5719  5719  2.112227      type3      1       77\n",
       " 2731  2731  3.671645      type2      0       77\n",
       " 3743  3743  3.163267      type3      1       77\n",
       " 6980  6980  3.265530      type3      0       77\n",
       " \n",
       " [200 rows x 5 columns],\n",
       "         id     price event_type  click  cluster\n",
       " 5462  5462  2.808129      type1      1       14\n",
       " 9357  9357  3.490501      type2      0       14\n",
       " 9078  9078  1.274551      type2      1       14\n",
       " 682    682  1.436488      type1      0       14\n",
       " 6545  6545  2.466883      type2      1       14\n",
       " ...    ...       ...        ...    ...      ...\n",
       " 2619  2619  2.665747      type2      1       95\n",
       " 9999  9999  1.923668      type2      0       95\n",
       " 804    804  3.702736      type2      0       95\n",
       " 6571  6571  3.946120      type3      1       95\n",
       " 2676  2676  3.685386      type1      0       95\n",
       " \n",
       " [200 rows x 5 columns])"
      ]
     },
     "execution_count": 19,
     "metadata": {},
     "output_type": "execute_result"
    }
   ],
   "source": [
    "def get_clustered_Sample(df, n_per_cluster, num_select_clusters):\n",
    "    N = len(df)\n",
    "    K = int(N/n_per_cluster)\n",
    "    data = None\n",
    "    for k in range(K):\n",
    "        sample_k = df.sample(n_per_cluster)\n",
    "        sample_k[\"cluster\"] = np.repeat(k, len(sample_k))\n",
    "        df = df.drop(index = sample_k.index)\n",
    "        data = pd.concat([data,sample_k],axis = 0)\n",
    "\n",
    "    random_chosen_clusters = np.random.randint(0, K, size = num_select_clusters)\n",
    "    samples = data[data.cluster.isin(random_chosen_clusters)]\n",
    "    return(samples)\n",
    "\n",
    "sample_1 = get_clustered_Sample(df = df, n_per_cluster = 100, num_select_clusters = 2)\n",
    "sample_2 = get_clustered_Sample(df = df, n_per_cluster = 100, num_select_clusters = 2)\n",
    "sample_1, sample_2"
   ]
  },
  {
   "attachments": {},
   "cell_type": "markdown",
   "id": "5263e397",
   "metadata": {},
   "source": [
    "### Weighted Sampling"
   ]
  },
  {
   "cell_type": "code",
   "execution_count": 20,
   "id": "f4ed4163",
   "metadata": {},
   "outputs": [
    {
     "data": {
      "text/plain": [
       "(                 id     price event_type  click\n",
       " event_type                                     \n",
       " type1      0   9681  1.329625      type1      0\n",
       "            1    682  1.436488      type1      0\n",
       "            2   3022  3.046058      type1      1\n",
       "            3   8701  2.330861      type1      0\n",
       "            4   6884  3.485850      type1      1\n",
       " ...             ...       ...        ...    ...\n",
       " type3      27  6585  2.366462      type3      1\n",
       "            28   782  2.311036      type3      0\n",
       "            29  6366  1.277768      type3      0\n",
       "            30  1125  2.652165      type3      0\n",
       "            31    17  3.911700      type3      0\n",
       " \n",
       " [99 rows x 4 columns],\n",
       "                  id     price event_type  click\n",
       " event_type                                     \n",
       " type1      0   4978  3.165612      type1      0\n",
       "            1   7469  3.506295      type1      0\n",
       "            2   8428  3.284926      type1      1\n",
       "            3   1670  2.644059      type1      0\n",
       "            4   4077  3.908259      type1      1\n",
       " ...             ...       ...        ...    ...\n",
       " type3      27  7894  3.183763      type3      0\n",
       "            28  8444  3.417630      type3      1\n",
       "            29  7521  1.569038      type3      0\n",
       "            30  4021  3.641354      type3      0\n",
       "            31  8184  2.306707      type3      0\n",
       " \n",
       " [99 rows x 4 columns])"
      ]
     },
     "execution_count": 20,
     "metadata": {},
     "output_type": "execute_result"
    }
   ],
   "source": [
    "def get_weighted_sample(df, n):\n",
    "    def get_class_prob(x):\n",
    "        weight_x = int(np.rint(n * len(x[x.click != 0]) / len(df[df.click != 0])))\n",
    "        sampled_x = x.sample(weight_x).reset_index(drop=True)\n",
    "        return (sampled_x)\n",
    "\n",
    "    weighted_sample = df.groupby('event_type').apply(get_class_prob)\n",
    "#     print(weighted_sample[\"event_type\"].value_counts())\n",
    "    return (weighted_sample)\n",
    "\n",
    "sample_1 = get_weighted_sample(df, 100)\n",
    "sample_2 = get_weighted_sample(df, 100)\n",
    "sample_1, sample_2"
   ]
  },
  {
   "attachments": {},
   "cell_type": "markdown",
   "id": "84d0ebf6",
   "metadata": {},
   "source": [
    "### Stratified Sampling"
   ]
  },
  {
   "cell_type": "code",
   "execution_count": 21,
   "id": "d9f4d85b",
   "metadata": {},
   "outputs": [
    {
     "data": {
      "text/plain": [
       "(      id     price event_type  click  cluster\n",
       " 0   4228  3.030472      type1      1       59\n",
       " 1   4902  3.364415      type1      1       59\n",
       " 2   7333  3.522493      type1      1       59\n",
       " 3   1486  1.119640      type1      1       59\n",
       " 4   5507  3.097000      type1      0       59\n",
       " ..   ...       ...        ...    ...      ...\n",
       " 94  9358  1.620969      type3      0       87\n",
       " 95  6195  2.400489      type3      1       87\n",
       " 96  6900  1.006235      type3      0       87\n",
       " 97  2755  2.612822      type3      1       87\n",
       " 98  9267  3.560741      type3      1       87\n",
       " \n",
       " [198 rows x 5 columns],\n",
       "       id     price event_type  click  cluster\n",
       " 0   6923  2.588295      type1      1       32\n",
       " 1   4528  1.896443      type1      1       32\n",
       " 2   6820  3.696661      type1      0       32\n",
       " 3   1993  2.857435      type1      0       32\n",
       " 4   8865  2.005681      type1      1       32\n",
       " ..   ...       ...        ...    ...      ...\n",
       " 94  1105  3.210749      type3      1       79\n",
       " 95  8401  3.892737      type3      0       79\n",
       " 96  6411  3.545035      type3      1       79\n",
       " 97  4479  1.812343      type3      1       79\n",
       " 98  9389  2.725183      type3      1       79\n",
       " \n",
       " [198 rows x 5 columns])"
      ]
     },
     "execution_count": 21,
     "metadata": {},
     "output_type": "execute_result"
    }
   ],
   "source": [
    "def get_startified_sample(df, n, num_clusters_needed):\n",
    "    N = len(df)\n",
    "    num_obs_per_cluster = int(N/n)\n",
    "    K = int(N/num_obs_per_cluster)\n",
    "\n",
    "    def get_weighted_sample(df,num_obs_per_cluster):\n",
    "        def get_sample_per_class(x):\n",
    "            n_x = int(np.rint(num_obs_per_cluster*len(x[x.click !=0])/len(df[df.click !=0])))\n",
    "            sample_x = x.sample(n_x)\n",
    "            return(sample_x)\n",
    "        weighted_sample = df.groupby(\"event_type\").apply(get_sample_per_class)\n",
    "        return(weighted_sample)\n",
    "\n",
    "    stratas = None\n",
    "    for k in range(K):\n",
    "        weighted_sample_k = get_weighted_sample(df, num_obs_per_cluster).reset_index(drop = True)\n",
    "        weighted_sample_k[\"cluster\"] = np.repeat(k,len(weighted_sample_k))\n",
    "        stratas = pd.concat([stratas, weighted_sample_k],axis = 0)\n",
    "        df.drop(index = weighted_sample_k.index)\n",
    "    selected_strata_clusters = np.random.randint(0, K, size = num_clusters_needed)\n",
    "    stratified_samples = stratas[stratas.cluster.isin(selected_strata_clusters)]\n",
    "    return(stratified_samples)\n",
    "\n",
    "sample_1 = get_startified_sample(df = df, n = 100, num_clusters_needed = 2)\n",
    "sample_2 = get_startified_sample(df = df, n = 100, num_clusters_needed = 2)\n",
    "sample_1, sample_2\n"
   ]
  },
  {
   "attachments": {},
   "cell_type": "markdown",
   "id": "861250b8",
   "metadata": {},
   "source": [
    "# Bootstrap "
   ]
  },
  {
   "cell_type": "code",
   "execution_count": 22,
   "id": "557544b0",
   "metadata": {},
   "outputs": [
    {
     "name": "stdout",
     "output_type": "stream",
     "text": [
      "      0           1\n",
      "0   211  Experiment\n",
      "1   218  Experiment\n",
      "2   205  Experiment\n",
      "3   234  Experiment\n",
      "4   204  Experiment\n",
      "..  ...         ...\n",
      "95  203     Control\n",
      "96  208     Control\n",
      "97  209     Control\n",
      "98  208     Control\n",
      "99  199     Control\n",
      "\n",
      "[100 rows x 2 columns]\n",
      "Mean of X_bar_exp - X_bar_con 2.6068728494511504\n",
      "Standard Error of X_bar_exp - X_bar_con 0.2593050585891417\n",
      "CI of X_bar_exp - X_bar_con [2.098644273607384, 3.1151014252949167]\n"
     ]
    },
    {
     "data": {
      "image/png": "[encoded data removed]",
      "text/plain": [
       "<Figure size 432x288 with 1 Axes>"
      ]
     },
     "metadata": {
      "needs_background": "light"
     },
     "output_type": "display_data"
    }
   ],
   "source": [
    "N = 100\n",
    "X = pd.Series(np.random.binomial(300, 0.7, size = N))\n",
    "Y_a, Y_b = np.repeat(\"Experiment\", N/2), np.repeat(\"Control\", N/2)\n",
    "N_a, N_b = len(Y_a), len(Y_b)\n",
    "\n",
    "Y = pd.Series(np.append(Y_a, Y_b))\n",
    "data = pd.concat([X,Y],axis = 1)\n",
    "print(data)\n",
    "means_per_group = data.groupby(1, group_keys = False)[0].mean()\n",
    "medians_per_group = data.groupby(1)[0].median()\n",
    "\n",
    "alpha = 0.05\n",
    "def bootstrap(data, b_iter):\n",
    "    boot_mean_diff = []\n",
    "    boot_medians_diff = []\n",
    "\n",
    "    boot_means_a = []\n",
    "    boot_means_b = []\n",
    "\n",
    "    count_num_positives_meandiff = 0\n",
    "    count_num_positives_mediandiff = 0\n",
    "\n",
    "    for i in range(b_iter):\n",
    "\n",
    "        boot_sample = data.sample(frac = 1, replace = True)\n",
    "\n",
    "        # Выборочное среднее на этой итерации bootstrap для A и B группы\n",
    "        boot_means_per_group = boot_sample.groupby(1)[0].mean()\n",
    "        boot_sample_mean_a = boot_means_per_group[\"Control\"]\n",
    "        boot_sample_mean_b = boot_means_per_group[\"Experiment\"]\n",
    "\n",
    "        boot_means_a.append(boot_sample_mean_a)\n",
    "        boot_means_b.append(boot_sample_mean_b)\n",
    "\n",
    "        # Разность выборочных средних между группами А и B на этой итерации bootstrap\n",
    "        diff_means = boot_sample_mean_b - boot_sample_mean_a\n",
    "\n",
    "        # Считаем кол-во итераций, когда разность средих была положительна\n",
    "        if diff_means > 0:\n",
    "            count_num_positives_meandiff += 1\n",
    "\n",
    "        # Считаем медианы по группам контроля / воздействия\n",
    "        boot_medians_per_group = boot_sample.groupby(1)[0].median()\n",
    "\n",
    "        # Считаем кол-во итераций, когда разность медиан была положительна\n",
    "        diff_medians = boot_medians_per_group[\"Experiment\"] - boot_medians_per_group[\"Control\"]\n",
    "        if diff_medians > 0:\n",
    "            count_num_positives_mediandiff += 1\n",
    "\n",
    "        boot_mean_diff.append(diff_means)\n",
    "        boot_medians_diff.append(diff_medians)\n",
    "\n",
    "    return(\n",
    "        boot_means_a,\n",
    "        boot_means_b,\n",
    "        count_num_positives_meandiff,\n",
    "        count_num_positives_mediandiff,\n",
    "        boot_mean_diff\n",
    "    )\n",
    "\n",
    "b_iter = 5000\n",
    "X_bars_a, X_bars_b , n_means, n_medians, boot_mean_diff = bootstrap(data, b_iter)\n",
    "Z_mean = np.mean(X_bars_b)- np.mean(X_bars_a)\n",
    "Z_sigma = np.sqrt((np.var(X_bars_b)/N_b + np.var(X_bars_a)/N_a))\n",
    "CI = [Z_mean - norm.ppf(1-alpha/2)*Z_sigma, Z_mean + norm.ppf(1-alpha/2)*Z_sigma]\n",
    "\n",
    "print(\"Mean of X_bar_exp - X_bar_con\", Z_mean)\n",
    "print(\"Standard Error of X_bar_exp - X_bar_con\", Z_sigma)\n",
    "print(\"CI of X_bar_exp - X_bar_con\", CI)\n",
    "\n",
    "p_value_diff_means = n_means/b_iter\n",
    "p_value_diff_medians = n_medians/b_iter\n",
    "\n",
    "CI = np.percentile(boot_mean_diff, [2.5, 97.5])\n",
    "\n",
    "counts, bins, ignored = plt.hist(\n",
    "    boot_mean_diff, 50,\n",
    "    density = True,\n",
    "    color = 'red'\n",
    ")\n",
    "plt.xlabel(\"Величина разности средних\")\n",
    "plt.title(\"Распределение разности средних между группами\")\n",
    "plt.show()"
   ]
  },
  {
   "cell_type": "code",
   "execution_count": 24,
   "id": "e9d025f9",
   "metadata": {},
   "outputs": [],
   "source": [
    "import pandas as pd\n",
    "import numpy as np\n",
    "import random\n",
    "import datetime\n",
    "import os\n",
    "import scipy.stats as st"
   ]
  },
  {
   "cell_type": "code",
   "execution_count": 25,
   "id": "71b88ece",
   "metadata": {},
   "outputs": [],
   "source": [
    "def generate_data():\n",
    "    ''' Функция, генерирующая трафик магазинов по дням с 2019-01-01 по 2019-06-39'''\n",
    "\n",
    "    ID = random.sample(range(1000001, 100000001), 1000)  # Генерируем уникальные id (восьмизначные числа) для 1'000 магазинов\n",
    "\n",
    "    mean_daily = 600    # Исходя из того, что в магазины из крупных сетей (около 10'000 магазинов) ежедневный поток\n",
    "                        # покупателей (далее трафик - traffic) в среднем составляет 1300 человек, предположим, что\n",
    "                        # для сети в 1'000 магазинов траффик меньше примерно в два раза (из-за убывающей отдачи от масштаба), \n",
    "                        # то есть в среднем составляет 600 человек/день\n",
    "\n",
    "    # Теперь предположим, что ввиду того, что сеть магазинов большая, у каждого магазина есть постоянный и достаточно \n",
    "    # стабильный трафик (то есть небольшое стандартное отклонение). Магазины могут быть разными по величине, поэтому \n",
    "    # возьмем нормальное распределение по объемам трафика со средним mean_daily и std = 10% от mean_daily\n",
    "    mean_for_each_id = np.random.normal(loc = mean_daily, scale = 0.1 * mean_daily, size = 1000)\n",
    "\n",
    "    # Составим датафрейм со средними значениями трафика для каждого магазина.\n",
    "    traffic_conf_int = pd.DataFrame({'mean_traffic': np.array(list(map(int, mean_for_each_id))),\n",
    "                                    'lower_bound': np.zeros(len(mean_for_each_id)),\n",
    "                                    'upper_bound': np.zeros(len(mean_for_each_id)),}, index = ID)\n",
    "\n",
    "    # Сгенерируем нижнюю и верхнюю границы доверительных интервалов, в которых будет колебаться трафик в каждом магазине\n",
    "    traffic_conf_int['lower_bound'] = traffic_conf_int['mean_traffic'].map(lambda i: st.norm.interval(0.95,\n",
    "                                                                                                    loc = i,\n",
    "                                                                                                    scale = 0.1 * i)[0]).map(int)\n",
    "    traffic_conf_int['upper_bound'] = traffic_conf_int['mean_traffic'].map(lambda i: st.norm.interval(0.95,\n",
    "                                                                                                    loc = i,\n",
    "                                                                                                    scale = 0.1 * i)[1]).map(int)\n",
    "\n",
    "    # Генерируем данные в промежутке от 2019-01-01 до 2019-06-30.\n",
    "    date_start = datetime.datetime(2019, 1, 1)\n",
    "    date_end = datetime.datetime(2019, 6, 30)\n",
    "    date_index = pd.date_range(date_start, date_end)\n",
    "\n",
    "    # Создаем для датафрейм дневного трафика в каждом магазине за рассматриваемый промежуток времени.\n",
    "    right_indexes = pd.MultiIndex.from_product([ID, date_index.to_list()], names=['id', 'date'])\n",
    "\n",
    "    daily_df = pd.DataFrame({'traffic': np.zeros(len(right_indexes))}, index = right_indexes).reset_index()\n",
    "\n",
    "    # Соединяем два полученных датафрейма, чтобы сгенерировать случайный дневной трафик для каждого магазина в\n",
    "    # пределах его доверительного интервала.\n",
    "    merged_df = pd.merge(daily_df, traffic_conf_int, left_on = 'id', right_index = True, how = 'left', sort=False)\n",
    "\n",
    "    def foo(x):\n",
    "        ''' Функция выдает случайное число типа int в границах заданного доверительного интервала'''\n",
    "    \n",
    "        traffic = random.randint(merged_df['lower_bound'][x], merged_df['upper_bound'][x])\n",
    "        return traffic\n",
    "\n",
    "    # Для каждого магазина генерируем дневной трафик.\n",
    "    merged_df['traffic'] = merged_df['traffic'].map(foo)\n",
    "\n",
    "    # Из полученного датафрейма merged_df убираем лишние колонки и получаем готовый сгенерированный датафрейм.\n",
    "    generated_df = merged_df.drop(['mean_traffic', 'lower_bound', 'upper_bound'], axis = 1)\n",
    "\n",
    "    return generated_df \n",
    "\n",
    "\n",
    "generated_df = generate_data()\n",
    "# linearized_df = linearize_data(generated_df = generated_df)"
   ]
  },
  {
   "cell_type": "code",
   "execution_count": 26,
   "id": "d373b34f-c7b5-4922-89e0-d88e1b4a534a",
   "metadata": {},
   "outputs": [
    {
     "data": {
      "text/html": [
       "<div>\n",
       "<style scoped>\n",
       "    .dataframe tbody tr th:only-of-type {\n",
       "        vertical-align: middle;\n",
       "    }\n",
       "\n",
       "    .dataframe tbody tr th {\n",
       "        vertical-align: top;\n",
       "    }\n",
       "\n",
       "    .dataframe thead th {\n",
       "        text-align: right;\n",
       "    }\n",
       "</style>\n",
       "<table border=\"1\" class=\"dataframe\">\n",
       "  <thead>\n",
       "    <tr style=\"text-align: right;\">\n",
       "      <th></th>\n",
       "      <th>id</th>\n",
       "      <th>date</th>\n",
       "      <th>traffic</th>\n",
       "    </tr>\n",
       "  </thead>\n",
       "  <tbody>\n",
       "    <tr>\n",
       "      <th>0</th>\n",
       "      <td>99606020</td>\n",
       "      <td>2019-01-01</td>\n",
       "      <td>445</td>\n",
       "    </tr>\n",
       "    <tr>\n",
       "      <th>1</th>\n",
       "      <td>99606020</td>\n",
       "      <td>2019-01-02</td>\n",
       "      <td>566</td>\n",
       "    </tr>\n",
       "    <tr>\n",
       "      <th>2</th>\n",
       "      <td>99606020</td>\n",
       "      <td>2019-01-03</td>\n",
       "      <td>447</td>\n",
       "    </tr>\n",
       "    <tr>\n",
       "      <th>3</th>\n",
       "      <td>99606020</td>\n",
       "      <td>2019-01-04</td>\n",
       "      <td>529</td>\n",
       "    </tr>\n",
       "    <tr>\n",
       "      <th>4</th>\n",
       "      <td>99606020</td>\n",
       "      <td>2019-01-05</td>\n",
       "      <td>520</td>\n",
       "    </tr>\n",
       "    <tr>\n",
       "      <th>...</th>\n",
       "      <td>...</td>\n",
       "      <td>...</td>\n",
       "      <td>...</td>\n",
       "    </tr>\n",
       "    <tr>\n",
       "      <th>180995</th>\n",
       "      <td>79394544</td>\n",
       "      <td>2019-06-26</td>\n",
       "      <td>472</td>\n",
       "    </tr>\n",
       "    <tr>\n",
       "      <th>180996</th>\n",
       "      <td>79394544</td>\n",
       "      <td>2019-06-27</td>\n",
       "      <td>534</td>\n",
       "    </tr>\n",
       "    <tr>\n",
       "      <th>180997</th>\n",
       "      <td>79394544</td>\n",
       "      <td>2019-06-28</td>\n",
       "      <td>438</td>\n",
       "    </tr>\n",
       "    <tr>\n",
       "      <th>180998</th>\n",
       "      <td>79394544</td>\n",
       "      <td>2019-06-29</td>\n",
       "      <td>394</td>\n",
       "    </tr>\n",
       "    <tr>\n",
       "      <th>180999</th>\n",
       "      <td>79394544</td>\n",
       "      <td>2019-06-30</td>\n",
       "      <td>554</td>\n",
       "    </tr>\n",
       "  </tbody>\n",
       "</table>\n",
       "<p>181000 rows × 3 columns</p>\n",
       "</div>"
      ],
      "text/plain": [
       "              id       date  traffic\n",
       "0       99606020 2019-01-01      445\n",
       "1       99606020 2019-01-02      566\n",
       "2       99606020 2019-01-03      447\n",
       "3       99606020 2019-01-04      529\n",
       "4       99606020 2019-01-05      520\n",
       "...          ...        ...      ...\n",
       "180995  79394544 2019-06-26      472\n",
       "180996  79394544 2019-06-27      534\n",
       "180997  79394544 2019-06-28      438\n",
       "180998  79394544 2019-06-29      394\n",
       "180999  79394544 2019-06-30      554\n",
       "\n",
       "[181000 rows x 3 columns]"
      ]
     },
     "execution_count": 26,
     "metadata": {},
     "output_type": "execute_result"
    }
   ],
   "source": [
    "generated_df"
   ]
  },
  {
   "cell_type": "code",
   "execution_count": 27,
   "id": "d41b4895",
   "metadata": {},
   "outputs": [],
   "source": [
    "generated_df['period'] = ''\n",
    "generated_df.loc[generated_df['date'] >= '2019-04-01','period'] = 'after'\n",
    "generated_df.loc[generated_df['date'] < '2019-04-01','period'] = 'before'\n"
   ]
  },
  {
   "cell_type": "code",
   "execution_count": 28,
   "id": "ec160b50",
   "metadata": {},
   "outputs": [],
   "source": [
    "dict_ = {\n",
    "    0: [],\n",
    "    1: []\n",
    "}\n",
    "for i in list(generated_df.id.unique()):\n",
    "    grp = int(np.random.randint(0, 2, 1))\n",
    "    dict_[grp].append(i)"
   ]
  },
  {
   "cell_type": "code",
   "execution_count": 29,
   "id": "370b8466",
   "metadata": {},
   "outputs": [],
   "source": [
    "generated_df.loc[generated_df['id'].isin(dict_[0]), 'group'] = 'A'\n",
    "generated_df.loc[generated_df['id'].isin(dict_[1]), 'group'] = 'B'"
   ]
  },
  {
   "cell_type": "code",
   "execution_count": 30,
   "id": "8522a725",
   "metadata": {},
   "outputs": [],
   "source": [
    "df_t = (\n",
    "    generated_df\n",
    "    .groupby(['date', 'group', 'period'])\n",
    "    .agg(\n",
    "        {'traffic': sum}\n",
    "    )\n",
    "    .reset_index()\n",
    ")"
   ]
  },
  {
   "cell_type": "code",
   "execution_count": 31,
   "id": "2cc9a6be",
   "metadata": {},
   "outputs": [
    {
     "data": {
      "text/html": [
       "<div>\n",
       "<style scoped>\n",
       "    .dataframe tbody tr th:only-of-type {\n",
       "        vertical-align: middle;\n",
       "    }\n",
       "\n",
       "    .dataframe tbody tr th {\n",
       "        vertical-align: top;\n",
       "    }\n",
       "\n",
       "    .dataframe thead th {\n",
       "        text-align: right;\n",
       "    }\n",
       "</style>\n",
       "<table border=\"1\" class=\"dataframe\">\n",
       "  <thead>\n",
       "    <tr style=\"text-align: right;\">\n",
       "      <th></th>\n",
       "      <th>date</th>\n",
       "      <th>group</th>\n",
       "      <th>period</th>\n",
       "      <th>traffic</th>\n",
       "    </tr>\n",
       "  </thead>\n",
       "  <tbody>\n",
       "    <tr>\n",
       "      <th>0</th>\n",
       "      <td>2019-01-01</td>\n",
       "      <td>A</td>\n",
       "      <td>before</td>\n",
       "      <td>222571</td>\n",
       "    </tr>\n",
       "    <tr>\n",
       "      <th>1</th>\n",
       "      <td>2019-01-01</td>\n",
       "      <td>B</td>\n",
       "      <td>before</td>\n",
       "      <td>256892</td>\n",
       "    </tr>\n",
       "    <tr>\n",
       "      <th>2</th>\n",
       "      <td>2019-01-02</td>\n",
       "      <td>A</td>\n",
       "      <td>before</td>\n",
       "      <td>223103</td>\n",
       "    </tr>\n",
       "    <tr>\n",
       "      <th>3</th>\n",
       "      <td>2019-01-02</td>\n",
       "      <td>B</td>\n",
       "      <td>before</td>\n",
       "      <td>258061</td>\n",
       "    </tr>\n",
       "    <tr>\n",
       "      <th>4</th>\n",
       "      <td>2019-01-03</td>\n",
       "      <td>A</td>\n",
       "      <td>before</td>\n",
       "      <td>225510</td>\n",
       "    </tr>\n",
       "    <tr>\n",
       "      <th>...</th>\n",
       "      <td>...</td>\n",
       "      <td>...</td>\n",
       "      <td>...</td>\n",
       "      <td>...</td>\n",
       "    </tr>\n",
       "    <tr>\n",
       "      <th>357</th>\n",
       "      <td>2019-06-28</td>\n",
       "      <td>B</td>\n",
       "      <td>after</td>\n",
       "      <td>257002</td>\n",
       "    </tr>\n",
       "    <tr>\n",
       "      <th>358</th>\n",
       "      <td>2019-06-29</td>\n",
       "      <td>A</td>\n",
       "      <td>after</td>\n",
       "      <td>225116</td>\n",
       "    </tr>\n",
       "    <tr>\n",
       "      <th>359</th>\n",
       "      <td>2019-06-29</td>\n",
       "      <td>B</td>\n",
       "      <td>after</td>\n",
       "      <td>255914</td>\n",
       "    </tr>\n",
       "    <tr>\n",
       "      <th>360</th>\n",
       "      <td>2019-06-30</td>\n",
       "      <td>A</td>\n",
       "      <td>after</td>\n",
       "      <td>223731</td>\n",
       "    </tr>\n",
       "    <tr>\n",
       "      <th>361</th>\n",
       "      <td>2019-06-30</td>\n",
       "      <td>B</td>\n",
       "      <td>after</td>\n",
       "      <td>258182</td>\n",
       "    </tr>\n",
       "  </tbody>\n",
       "</table>\n",
       "<p>362 rows × 4 columns</p>\n",
       "</div>"
      ],
      "text/plain": [
       "          date group  period  traffic\n",
       "0   2019-01-01     A  before   222571\n",
       "1   2019-01-01     B  before   256892\n",
       "2   2019-01-02     A  before   223103\n",
       "3   2019-01-02     B  before   258061\n",
       "4   2019-01-03     A  before   225510\n",
       "..         ...   ...     ...      ...\n",
       "357 2019-06-28     B   after   257002\n",
       "358 2019-06-29     A   after   225116\n",
       "359 2019-06-29     B   after   255914\n",
       "360 2019-06-30     A   after   223731\n",
       "361 2019-06-30     B   after   258182\n",
       "\n",
       "[362 rows x 4 columns]"
      ]
     },
     "execution_count": 31,
     "metadata": {},
     "output_type": "execute_result"
    }
   ],
   "source": [
    "df_t"
   ]
  },
  {
   "cell_type": "code",
   "execution_count": 75,
   "id": "72ee8e92-ddab-4bba-8194-6641306b3bbe",
   "metadata": {},
   "outputs": [
    {
     "data": {
      "text/plain": [
       "group\n",
       "A    AxesSubplot(0.125,0.125;0.775x0.755)\n",
       "B    AxesSubplot(0.125,0.125;0.775x0.755)\n",
       "Name: traffic, dtype: object"
      ]
     },
     "execution_count": 75,
     "metadata": {},
     "output_type": "execute_result"
    },
    {
     "data": {
      "image/png": "[encoded data removed]",
      "text/plain": [
       "<Figure size 432x288 with 1 Axes>"
      ]
     },
     "metadata": {
      "needs_background": "light"
     },
     "output_type": "display_data"
    }
   ],
   "source": [
    "df_t.set_index('date', inplace=True)\n",
    "df_t.groupby('group')['traffic'].plot(legend=True)\n",
    "# df_t.groupby('group').agg({'traffic': sum}).plot(legend=True)\n",
    "# plt.plot(df_t.date, df_t.traffic, color=df_t.group)"
   ]
  },
  {
   "attachments": {},
   "cell_type": "markdown",
   "id": "10c6d9d8",
   "metadata": {},
   "source": [
    "## Ranking"
   ]
  },
  {
   "cell_type": "code",
   "execution_count": 4,
   "id": "64870e39",
   "metadata": {},
   "outputs": [
    {
     "ename": "NameError",
     "evalue": "name 'df_t' is not defined",
     "output_type": "error",
     "traceback": [
      "\u001b[1;31m---------------------------------------------------------------------------\u001b[0m",
      "\u001b[1;31mNameError\u001b[0m                                 Traceback (most recent call last)",
      "Cell \u001b[1;32mIn[4], line 1\u001b[0m\n\u001b[1;32m----> 1\u001b[0m df_r \u001b[39m=\u001b[39m df_t\u001b[39m.\u001b[39mdrop([\u001b[39m'\u001b[39m\u001b[39mperiod\u001b[39m\u001b[39m'\u001b[39m, \u001b[39m'\u001b[39m\u001b[39mdate\u001b[39m\u001b[39m'\u001b[39m], axis\u001b[39m=\u001b[39m\u001b[39m1\u001b[39m)\n",
      "\u001b[1;31mNameError\u001b[0m: name 'df_t' is not defined"
     ]
    }
   ],
   "source": [
    "df_r = df_t.drop(['period', 'date'], axis=1)"
   ]
  },
  {
   "cell_type": "code",
   "execution_count": 33,
   "id": "16ff59ec",
   "metadata": {},
   "outputs": [
    {
     "data": {
      "text/plain": [
       "(1222.524964048804, 1272.235521328941)"
      ]
     },
     "execution_count": 33,
     "metadata": {},
     "output_type": "execute_result"
    }
   ],
   "source": [
    "df_r[df_r.group == 'A'].traffic.std(), df_r[df_r.group == 'B'].traffic.std()"
   ]
  },
  {
   "cell_type": "code",
   "execution_count": 34,
   "id": "f3e4d569",
   "metadata": {},
   "outputs": [],
   "source": [
    "df_r.loc[df_r.group == 'A','rank'] = df_r[df_r.group == 'A'].traffic.rank()\n",
    "df_r.loc[df_r.group == 'B','rank'] = df_r[df_r.group == 'B'].traffic.rank()"
   ]
  },
  {
   "cell_type": "code",
   "execution_count": 35,
   "id": "a960b996",
   "metadata": {},
   "outputs": [
    {
     "data": {
      "text/plain": [
       "(52.39420557445048, 52.394232082888244)"
      ]
     },
     "execution_count": 35,
     "metadata": {},
     "output_type": "execute_result"
    }
   ],
   "source": [
    "df_r[df_r.group == 'A']['rank'].std(), df_r[df_r.group == 'B']['rank'].std()"
   ]
  },
  {
   "cell_type": "code",
   "execution_count": 43,
   "id": "d28c3d91",
   "metadata": {},
   "outputs": [
    {
     "name": "stdout",
     "output_type": "stream",
     "text": [
      "Ttest_indResult(statistic=-250.4742787859884, pvalue=0.0) \n",
      " Ttest_indResult(statistic=0.0, pvalue=1.0) \n",
      " MannwhitneyuResult(statistic=0.0, pvalue=7.843965937156977e-61)\n"
     ]
    }
   ],
   "source": [
    "ttest = ttest_ind(\n",
    "    df_r[df_r.group == 'A'].traffic, \n",
    "    df_r[df_r.group == 'B'].traffic,\n",
    "    equal_var=True,\n",
    "    nan_policy='propagate',\n",
    "    alternative='two-sided'\n",
    ")\n",
    "ttest_r = ttest_ind(\n",
    "    df_r[df_r.group == 'A']['rank'], \n",
    "    df_r[df_r.group == 'B']['rank'],\n",
    "    equal_var=True,\n",
    "    nan_policy='propagate',\n",
    "    alternative='two-sided'\n",
    ")\n",
    "mwtest = mannwhitneyu(\n",
    "    df_r[df_r.group == 'A'].traffic, \n",
    "    df_r[df_r.group == 'B'].traffic\n",
    "#     nan_policy='propagate',\n",
    "#     alternative='two-sided'\n",
    ")\n",
    "print(ttest,'\\n', ttest_r, '\\n', mwtest)"
   ]
  },
  {
   "attachments": {},
   "cell_type": "markdown",
   "id": "44b0f3d3",
   "metadata": {},
   "source": [
    "## Logarithm"
   ]
  },
  {
   "cell_type": "code",
   "execution_count": 44,
   "id": "c161d91f",
   "metadata": {},
   "outputs": [],
   "source": [
    "import math"
   ]
  },
  {
   "cell_type": "code",
   "execution_count": 45,
   "id": "19923ff8",
   "metadata": {},
   "outputs": [],
   "source": [
    "df_l = df_t.drop(['period', 'date'], axis=1)"
   ]
  },
  {
   "cell_type": "code",
   "execution_count": 46,
   "id": "0dbe5e24",
   "metadata": {},
   "outputs": [
    {
     "data": {
      "text/plain": [
       "(1222.524964048804, 1272.235521328941)"
      ]
     },
     "execution_count": 46,
     "metadata": {},
     "output_type": "execute_result"
    }
   ],
   "source": [
    "df_l[df_l.group == 'A'].traffic.std(), df_l[df_l.group == 'B'].traffic.std()"
   ]
  },
  {
   "cell_type": "code",
   "execution_count": 47,
   "id": "c2ae3a69",
   "metadata": {},
   "outputs": [],
   "source": [
    "df_l.loc[df_l.group == 'A','log'] = df_l[df_l.group == 'A'].traffic.map(lambda x: math.log(x))\n",
    "df_l.loc[df_l.group == 'B','log'] = df_l[df_l.group == 'B'].traffic.map(lambda x: math.log(x))"
   ]
  },
  {
   "cell_type": "code",
   "execution_count": 48,
   "id": "b2622161",
   "metadata": {},
   "outputs": [
    {
     "data": {
      "text/plain": [
       "(0.005453118240968117, 0.004947442698545993)"
      ]
     },
     "execution_count": 48,
     "metadata": {},
     "output_type": "execute_result"
    }
   ],
   "source": [
    "df_l[df_l.group == 'A']['log'].std(), df_l[df_l.group == 'B']['log'].std()"
   ]
  },
  {
   "cell_type": "code",
   "execution_count": 49,
   "id": "41c60d66",
   "metadata": {},
   "outputs": [
    {
     "name": "stdout",
     "output_type": "stream",
     "text": [
      "Ttest_indResult(statistic=-250.4742787859884, pvalue=0.0) \n",
      " Ttest_indResult(statistic=-249.76305119117558, pvalue=0.0)\n"
     ]
    }
   ],
   "source": [
    "ttest = ttest_ind(\n",
    "    df_l[df_l.group == 'A'].traffic, \n",
    "    df_l[df_l.group == 'B'].traffic,\n",
    "    equal_var=True,\n",
    "    nan_policy='propagate',\n",
    "    alternative='two-sided'\n",
    ")\n",
    "\n",
    "ttest_l = ttest_ind(\n",
    "    df_l[df_l.group == 'A']['log'], \n",
    "    df_l[df_l.group == 'B']['log'],\n",
    "    equal_var=True,\n",
    "    nan_policy='propagate',\n",
    "    alternative='two-sided'\n",
    ")\n",
    "# mwtest = mannwhitneyu(\n",
    "#     df_r[df_r.group == 'A'].traffic, \n",
    "#     df_r[df_r.group == 'B'].traffic\n",
    "# #     nan_policy='propagate',\n",
    "# #     alternative='two-sided'\n",
    "# )\n",
    "print(ttest,'\\n',ttest_l)"
   ]
  },
  {
   "attachments": {},
   "cell_type": "markdown",
   "id": "df615252",
   "metadata": {},
   "source": [
    "## Normalisation"
   ]
  },
  {
   "cell_type": "code",
   "execution_count": 50,
   "id": "c018c8ec",
   "metadata": {},
   "outputs": [],
   "source": [
    "df_norm = df_t.drop(['period', 'date'], axis=1)"
   ]
  },
  {
   "cell_type": "code",
   "execution_count": 51,
   "id": "54828ad0",
   "metadata": {},
   "outputs": [
    {
     "data": {
      "text/plain": [
       "(1222.524964048804, 1272.235521328941)"
      ]
     },
     "execution_count": 51,
     "metadata": {},
     "output_type": "execute_result"
    }
   ],
   "source": [
    "df_norm[df_norm.group == 'A'].traffic.std(), df_norm[df_norm.group == 'B'].traffic.std()"
   ]
  },
  {
   "cell_type": "code",
   "execution_count": 52,
   "id": "4b57bdaf",
   "metadata": {},
   "outputs": [],
   "source": [
    "grp_a_max = df_norm[df_norm.group == 'A'].traffic.max()\n",
    "grp_a_min = df_norm[df_norm.group == 'A'].traffic.min()\n",
    "grp_b_max = df_norm[df_norm.group == 'B'].traffic.max()\n",
    "grp_b_min = df_norm[df_norm.group == 'B'].traffic.min()\n",
    "df_norm.loc[\n",
    "    df_norm.group == 'A','norm'\n",
    "] = df_norm[df_norm.group == 'A'].traffic.map(lambda x: (x-grp_a_min)/(grp_a_max - grp_a_min))\n",
    "df_norm.loc[\n",
    "    df_norm.group == 'B','norm'\n",
    "] = df_norm[df_norm.group == 'B'].traffic.map(lambda x: (x-grp_b_min)/(grp_b_max - grp_b_min))"
   ]
  },
  {
   "cell_type": "code",
   "execution_count": 53,
   "id": "ef6e3425",
   "metadata": {},
   "outputs": [
    {
     "data": {
      "text/plain": [
       "(0.19756382741577314, 0.17143720810253893)"
      ]
     },
     "execution_count": 53,
     "metadata": {},
     "output_type": "execute_result"
    }
   ],
   "source": [
    "df_norm[df_norm.group == 'A']['norm'].std(), df_norm[df_norm.group == 'B']['norm'].std()"
   ]
  },
  {
   "cell_type": "code",
   "execution_count": 54,
   "id": "20ed2df3",
   "metadata": {},
   "outputs": [
    {
     "name": "stdout",
     "output_type": "stream",
     "text": [
      "Ttest_indResult(statistic=-250.4742787859884, pvalue=0.0) \n",
      " Ttest_indResult(statistic=3.91424237471565, pvalue=0.00010845677247182772)\n"
     ]
    }
   ],
   "source": [
    "ttest = ttest_ind(\n",
    "    df_norm[df_norm.group == 'A'].traffic, \n",
    "    df_norm[df_norm.group == 'B'].traffic,\n",
    "    equal_var=True,\n",
    "    nan_policy='propagate',\n",
    "    alternative='two-sided'\n",
    ")\n",
    "ttest_norm = ttest_ind(\n",
    "    df_norm[df_norm.group == 'A']['norm'], \n",
    "    df_norm[df_norm.group == 'B']['norm'],\n",
    "    equal_var=True,\n",
    "    nan_policy='propagate',\n",
    "    alternative='two-sided'\n",
    ")\n",
    "mwtest = mannwhitneyu(\n",
    "    df_r[df_r.group == 'A'].traffic, \n",
    "    df_r[df_r.group == 'B'].traffic\n",
    "#     nan_policy='propagate',\n",
    "#     alternative='two-sided'\n",
    ")\n",
    "print(ttest,'\\n',ttest_norm)"
   ]
  },
  {
   "attachments": {},
   "cell_type": "markdown",
   "id": "b7e1adce",
   "metadata": {},
   "source": [
    "## Standartization"
   ]
  },
  {
   "cell_type": "code",
   "execution_count": 55,
   "id": "ac779df0",
   "metadata": {},
   "outputs": [],
   "source": [
    "df_st = df_t.drop(['period', 'date'], axis=1)"
   ]
  },
  {
   "cell_type": "code",
   "execution_count": 56,
   "id": "e3748679",
   "metadata": {},
   "outputs": [
    {
     "data": {
      "text/plain": [
       "(1222.524964048804, 1272.235521328941)"
      ]
     },
     "execution_count": 56,
     "metadata": {},
     "output_type": "execute_result"
    }
   ],
   "source": [
    "df_st[df_st.group == 'A'].traffic.std(), df_st[df_st.group == 'B'].traffic.std()"
   ]
  },
  {
   "cell_type": "code",
   "execution_count": 57,
   "id": "6c233e06",
   "metadata": {},
   "outputs": [],
   "source": [
    "grp_a_std = df_st[df_st.group == 'A'].traffic.std()\n",
    "grp_a_mean = df_st[df_st.group == 'A'].traffic.mean()\n",
    "grp_b_std = df_st[df_st.group == 'B'].traffic.std()\n",
    "grp_b_mean = df_st[df_st.group == 'B'].traffic.mean()\n",
    "df_st.loc[\n",
    "    df_st.group == 'A','st'\n",
    "] = df_st[df_st.group == 'A'].traffic.map(lambda x: (x-grp_a_mean)/ grp_a_std)\n",
    "df_st.loc[\n",
    "    df_st.group == 'B','st'\n",
    "] = df_st[df_st.group == 'B'].traffic.map(lambda x: (x-grp_b_std)/grp_b_std)"
   ]
  },
  {
   "cell_type": "code",
   "execution_count": 68,
   "id": "a822dcd2-979f-44ee-bede-2d50aa10fbee",
   "metadata": {},
   "outputs": [
    {
     "data": {
      "text/plain": [
       "(224268.88950276244, 257118.02209944752)"
      ]
     },
     "execution_count": 68,
     "metadata": {},
     "output_type": "execute_result"
    }
   ],
   "source": [
    "grp_a_mean, grp_b_mean"
   ]
  },
  {
   "cell_type": "code",
   "execution_count": 58,
   "id": "2fcf29b6",
   "metadata": {},
   "outputs": [
    {
     "data": {
      "text/plain": [
       "(1.0000000000000002, 0.9999999999999999)"
      ]
     },
     "execution_count": 58,
     "metadata": {},
     "output_type": "execute_result"
    }
   ],
   "source": [
    "df_st[df_st.group == 'A']['st'].std(), df_st[df_st.group == 'B']['st'].std()"
   ]
  },
  {
   "cell_type": "code",
   "execution_count": 59,
   "id": "f4e5b9e9",
   "metadata": {},
   "outputs": [
    {
     "name": "stdout",
     "output_type": "stream",
     "text": [
      "Ttest_indResult(statistic=-250.4742787859884, pvalue=0.0) \n",
      " Ttest_indResult(statistic=-1913.0884144827346, pvalue=0.0)\n",
      "MannwhitneyuResult(statistic=0.0, pvalue=7.843965937156977e-61) \n",
      " MannwhitneyuResult(statistic=0.0, pvalue=7.843965937156977e-61)\n"
     ]
    }
   ],
   "source": [
    "ttest = ttest_ind(\n",
    "    df_st[df_st.group == 'A'].traffic, \n",
    "    df_st[df_st.group == 'B'].traffic,\n",
    "    equal_var=True,\n",
    "    nan_policy='propagate',\n",
    "    alternative='two-sided'\n",
    ")\n",
    "ttest_st = ttest_ind(\n",
    "    df_st[df_st.group == 'A']['st'], \n",
    "    df_st[df_st.group == 'B']['st'],\n",
    "    equal_var=True,\n",
    "    nan_policy='propagate',\n",
    "    alternative='two-sided'\n",
    ")\n",
    "mwtest = mannwhitneyu(\n",
    "    df_st[df_st.group == 'A'].traffic, \n",
    "    df_st[df_st.group == 'B'].traffic\n",
    "#     nan_policy='propagate',\n",
    "#     alternative='two-sided'\n",
    ")\n",
    "mwtest_st = mannwhitneyu(\n",
    "    df_st[df_st.group == 'A']['st'], \n",
    "    df_st[df_st.group == 'B']['st']\n",
    "#     nan_policy='propagate',\n",
    "#     alternative='two-sided'\n",
    ")\n",
    "print(ttest,'\\n',ttest_st)\n",
    "print(mwtest,'\\n',mwtest_st)"
   ]
  },
  {
   "attachments": {},
   "cell_type": "markdown",
   "id": "7f487e13",
   "metadata": {},
   "source": [
    "## Linearization"
   ]
  },
  {
   "cell_type": "code",
   "execution_count": 123,
   "id": "20c6b940",
   "metadata": {},
   "outputs": [],
   "source": [
    "def linearize_data(generated_df):\n",
    "    ''' Функция, осуществляющая линеаризацию на сгенерированных данных '''\n",
    "\n",
    "    # Для проведения линеаризации добавим дополнительный столбец is_pilot - индикатор для обозначения пилотного периода\n",
    "    # в новый датафрейм pre_linearized_df.\n",
    "    pre_linearized_df = pd.concat([generated_df, pd.Series(np.zeros(len(generated_df))).map(int).rename('is_pilot')], axis=1)\n",
    "\n",
    "    pre_linearized_df.loc[pre_linearized_df.date >= '2019-04-01', 'is_pilot'] =  1\n",
    "\n",
    "    # Вычислим средние значения трафика до и во время пилотного периода для каждого магазина в mean_by_is_pilot\n",
    "    mean_by_is_pilot = pre_linearized_df.groupby(['id', 'is_pilot']).mean().reset_index()\n",
    "\n",
    "    # Оставим в новом датафрейме mean_not_pilot средние значения трафика в магазинах до пилотного периода.\n",
    "    mean_not_pilot = mean_by_is_pilot[mean_by_is_pilot['is_pilot'] == 0]\n",
    "    mean_not_pilot = mean_not_pilot.assign(mean_traffic = np.array(mean_not_pilot['traffic'].map(int)))\n",
    "    mean_not_pilot = mean_not_pilot.drop(['traffic', 'is_pilot'], axis = 1)  # Убираем лишние столбцы\n",
    "\n",
    "    # Соединяем сгенерированный датафрейм со столбцом is_pilot (pre_linearized_df) с полученным датафреймом значений\n",
    "    # среднего трафика магазинов до пилотного периода.\n",
    "    linearized_df = pd.merge(pre_linearized_df, mean_not_pilot, left_on = 'id', right_on = 'id', how = 'left', sort = False)\n",
    "\n",
    "    # Проводим линеаризацию, вычитая средние значения \"до\"-пилотного периода из сгенерированных значений трафика в\n",
    "    # пилотном периоде для каждого магазина.\n",
    "    linearized_df.loc[linearized_df.is_pilot == 1, 'traffic'] =  linearized_df['traffic'] - linearized_df['mean_traffic']\n",
    "    \n",
    "    # Убираем лишние столбцы из датафрейма линеаризованного трафика, а также значения \"до\"-пилотного периода\n",
    "    linearized_df = linearized_df[linearized_df['is_pilot']== 1].drop(['is_pilot','mean_traffic'],axis = 1) \n",
    "    \n",
    "    return linearized_df "
   ]
  },
  {
   "cell_type": "code",
   "execution_count": 124,
   "id": "66ac8ee2",
   "metadata": {},
   "outputs": [
    {
     "data": {
      "text/html": [
       "<div>\n",
       "<style scoped>\n",
       "    .dataframe tbody tr th:only-of-type {\n",
       "        vertical-align: middle;\n",
       "    }\n",
       "\n",
       "    .dataframe tbody tr th {\n",
       "        vertical-align: top;\n",
       "    }\n",
       "\n",
       "    .dataframe thead th {\n",
       "        text-align: right;\n",
       "    }\n",
       "</style>\n",
       "<table border=\"1\" class=\"dataframe\">\n",
       "  <thead>\n",
       "    <tr style=\"text-align: right;\">\n",
       "      <th></th>\n",
       "      <th>id</th>\n",
       "      <th>date</th>\n",
       "      <th>traffic</th>\n",
       "      <th>period</th>\n",
       "      <th>group</th>\n",
       "    </tr>\n",
       "  </thead>\n",
       "  <tbody>\n",
       "    <tr>\n",
       "      <th>0</th>\n",
       "      <td>99606020</td>\n",
       "      <td>2019-01-01</td>\n",
       "      <td>445</td>\n",
       "      <td>before</td>\n",
       "      <td>A</td>\n",
       "    </tr>\n",
       "    <tr>\n",
       "      <th>1</th>\n",
       "      <td>99606020</td>\n",
       "      <td>2019-01-02</td>\n",
       "      <td>566</td>\n",
       "      <td>before</td>\n",
       "      <td>A</td>\n",
       "    </tr>\n",
       "    <tr>\n",
       "      <th>2</th>\n",
       "      <td>99606020</td>\n",
       "      <td>2019-01-03</td>\n",
       "      <td>447</td>\n",
       "      <td>before</td>\n",
       "      <td>A</td>\n",
       "    </tr>\n",
       "    <tr>\n",
       "      <th>3</th>\n",
       "      <td>99606020</td>\n",
       "      <td>2019-01-04</td>\n",
       "      <td>529</td>\n",
       "      <td>before</td>\n",
       "      <td>A</td>\n",
       "    </tr>\n",
       "    <tr>\n",
       "      <th>4</th>\n",
       "      <td>99606020</td>\n",
       "      <td>2019-01-05</td>\n",
       "      <td>520</td>\n",
       "      <td>before</td>\n",
       "      <td>A</td>\n",
       "    </tr>\n",
       "    <tr>\n",
       "      <th>...</th>\n",
       "      <td>...</td>\n",
       "      <td>...</td>\n",
       "      <td>...</td>\n",
       "      <td>...</td>\n",
       "      <td>...</td>\n",
       "    </tr>\n",
       "    <tr>\n",
       "      <th>180995</th>\n",
       "      <td>79394544</td>\n",
       "      <td>2019-06-26</td>\n",
       "      <td>472</td>\n",
       "      <td>after</td>\n",
       "      <td>B</td>\n",
       "    </tr>\n",
       "    <tr>\n",
       "      <th>180996</th>\n",
       "      <td>79394544</td>\n",
       "      <td>2019-06-27</td>\n",
       "      <td>534</td>\n",
       "      <td>after</td>\n",
       "      <td>B</td>\n",
       "    </tr>\n",
       "    <tr>\n",
       "      <th>180997</th>\n",
       "      <td>79394544</td>\n",
       "      <td>2019-06-28</td>\n",
       "      <td>438</td>\n",
       "      <td>after</td>\n",
       "      <td>B</td>\n",
       "    </tr>\n",
       "    <tr>\n",
       "      <th>180998</th>\n",
       "      <td>79394544</td>\n",
       "      <td>2019-06-29</td>\n",
       "      <td>394</td>\n",
       "      <td>after</td>\n",
       "      <td>B</td>\n",
       "    </tr>\n",
       "    <tr>\n",
       "      <th>180999</th>\n",
       "      <td>79394544</td>\n",
       "      <td>2019-06-30</td>\n",
       "      <td>554</td>\n",
       "      <td>after</td>\n",
       "      <td>B</td>\n",
       "    </tr>\n",
       "  </tbody>\n",
       "</table>\n",
       "<p>181000 rows × 5 columns</p>\n",
       "</div>"
      ],
      "text/plain": [
       "              id       date  traffic  period group\n",
       "0       99606020 2019-01-01      445  before     A\n",
       "1       99606020 2019-01-02      566  before     A\n",
       "2       99606020 2019-01-03      447  before     A\n",
       "3       99606020 2019-01-04      529  before     A\n",
       "4       99606020 2019-01-05      520  before     A\n",
       "...          ...        ...      ...     ...   ...\n",
       "180995  79394544 2019-06-26      472   after     B\n",
       "180996  79394544 2019-06-27      534   after     B\n",
       "180997  79394544 2019-06-28      438   after     B\n",
       "180998  79394544 2019-06-29      394   after     B\n",
       "180999  79394544 2019-06-30      554   after     B\n",
       "\n",
       "[181000 rows x 5 columns]"
      ]
     },
     "execution_count": 124,
     "metadata": {},
     "output_type": "execute_result"
    }
   ],
   "source": [
    "generated_df"
   ]
  },
  {
   "cell_type": "code",
   "execution_count": 125,
   "id": "9555dfb9",
   "metadata": {},
   "outputs": [
    {
     "data": {
      "text/html": [
       "<div>\n",
       "<style scoped>\n",
       "    .dataframe tbody tr th:only-of-type {\n",
       "        vertical-align: middle;\n",
       "    }\n",
       "\n",
       "    .dataframe tbody tr th {\n",
       "        vertical-align: top;\n",
       "    }\n",
       "\n",
       "    .dataframe thead th {\n",
       "        text-align: right;\n",
       "    }\n",
       "</style>\n",
       "<table border=\"1\" class=\"dataframe\">\n",
       "  <thead>\n",
       "    <tr style=\"text-align: right;\">\n",
       "      <th></th>\n",
       "      <th>group</th>\n",
       "      <th>traffic</th>\n",
       "    </tr>\n",
       "  </thead>\n",
       "  <tbody>\n",
       "    <tr>\n",
       "      <th>0</th>\n",
       "      <td>A</td>\n",
       "      <td>1222.524964</td>\n",
       "    </tr>\n",
       "    <tr>\n",
       "      <th>1</th>\n",
       "      <td>B</td>\n",
       "      <td>1272.235521</td>\n",
       "    </tr>\n",
       "  </tbody>\n",
       "</table>\n",
       "</div>"
      ],
      "text/plain": [
       "  group      traffic\n",
       "0     A  1222.524964\n",
       "1     B  1272.235521"
      ]
     },
     "execution_count": 125,
     "metadata": {},
     "output_type": "execute_result"
    }
   ],
   "source": [
    "df_t.groupby('group').agg({'traffic': np.std}).reset_index()"
   ]
  },
  {
   "cell_type": "code",
   "execution_count": 126,
   "id": "ad2f19c7",
   "metadata": {},
   "outputs": [],
   "source": [
    "lin_dt = linearize_data(generated_df)"
   ]
  },
  {
   "cell_type": "code",
   "execution_count": 127,
   "id": "ab6baca5",
   "metadata": {},
   "outputs": [
    {
     "data": {
      "text/html": [
       "<div>\n",
       "<style scoped>\n",
       "    .dataframe tbody tr th:only-of-type {\n",
       "        vertical-align: middle;\n",
       "    }\n",
       "\n",
       "    .dataframe tbody tr th {\n",
       "        vertical-align: top;\n",
       "    }\n",
       "\n",
       "    .dataframe thead th {\n",
       "        text-align: right;\n",
       "    }\n",
       "</style>\n",
       "<table border=\"1\" class=\"dataframe\">\n",
       "  <thead>\n",
       "    <tr style=\"text-align: right;\">\n",
       "      <th></th>\n",
       "      <th>group</th>\n",
       "      <th>traffic</th>\n",
       "    </tr>\n",
       "  </thead>\n",
       "  <tbody>\n",
       "    <tr>\n",
       "      <th>0</th>\n",
       "      <td>A</td>\n",
       "      <td>55.337669</td>\n",
       "    </tr>\n",
       "    <tr>\n",
       "      <th>1</th>\n",
       "      <td>B</td>\n",
       "      <td>55.059115</td>\n",
       "    </tr>\n",
       "  </tbody>\n",
       "</table>\n",
       "</div>"
      ],
      "text/plain": [
       "  group    traffic\n",
       "0     A  55.337669\n",
       "1     B  55.059115"
      ]
     },
     "execution_count": 127,
     "metadata": {},
     "output_type": "execute_result"
    }
   ],
   "source": [
    "lin_dt.groupby('group').agg({'traffic': np.std}).reset_index()"
   ]
  },
  {
   "attachments": {},
   "cell_type": "markdown",
   "id": "ff1850b8-cef9-4101-95d4-4c88305bee6f",
   "metadata": {},
   "source": [
    "## CUPED"
   ]
  },
  {
   "cell_type": "code",
   "execution_count": 91,
   "id": "c16fd336-8456-4503-a698-c89799a593ed",
   "metadata": {},
   "outputs": [],
   "source": [
    "id_mean_df = generated_df.groupby(['id', 'period', 'group']).agg({'traffic': np.mean}).reset_index()"
   ]
  },
  {
   "cell_type": "code",
   "execution_count": 92,
   "id": "2c0b1c50-85cf-4c70-9db4-fcd6489ce58b",
   "metadata": {},
   "outputs": [],
   "source": [
    "id_mean_df_before = id_mean_df[id_mean_df.period=='before']\n",
    "id_mean_df_after = id_mean_df[id_mean_df.period!='before']"
   ]
  },
  {
   "cell_type": "code",
   "execution_count": 95,
   "id": "fa524053-06c7-4ef6-a874-bf72f2f5ef66",
   "metadata": {},
   "outputs": [],
   "source": [
    "id_mean_df_final = (\n",
    "    pd.merge(id_mean_df_before, id_mean_df_after, how='inner', on='id')\n",
    "    .rename({\n",
    "        'traffic_x': 'traffic_before', \n",
    "        'traffic_y': 'traffic_after',\n",
    "        'group_x': 'group'\n",
    "    }, axis=1)\n",
    "    .drop(['period_x', 'period_y', 'group_y'], axis=1)\n",
    ")"
   ]
  },
  {
   "cell_type": "code",
   "execution_count": 116,
   "id": "1cca2f08-ff5c-4809-8349-9bac1434245e",
   "metadata": {},
   "outputs": [
    {
     "data": {
      "text/html": [
       "<div>\n",
       "<style scoped>\n",
       "    .dataframe tbody tr th:only-of-type {\n",
       "        vertical-align: middle;\n",
       "    }\n",
       "\n",
       "    .dataframe tbody tr th {\n",
       "        vertical-align: top;\n",
       "    }\n",
       "\n",
       "    .dataframe thead th {\n",
       "        text-align: right;\n",
       "    }\n",
       "</style>\n",
       "<table border=\"1\" class=\"dataframe\">\n",
       "  <thead>\n",
       "    <tr style=\"text-align: right;\">\n",
       "      <th></th>\n",
       "      <th>id</th>\n",
       "      <th>group</th>\n",
       "      <th>traffic_before</th>\n",
       "      <th>traffic_after</th>\n",
       "      <th>traffic_after_tilde</th>\n",
       "      <th>treatment</th>\n",
       "      <th>traffic_after_cuped</th>\n",
       "    </tr>\n",
       "  </thead>\n",
       "  <tbody>\n",
       "    <tr>\n",
       "      <th>0</th>\n",
       "      <td>1188823</td>\n",
       "      <td>B</td>\n",
       "      <td>477.388889</td>\n",
       "      <td>493.472527</td>\n",
       "      <td>493.456809</td>\n",
       "      <td>1</td>\n",
       "      <td>493.456809</td>\n",
       "    </tr>\n",
       "    <tr>\n",
       "      <th>1</th>\n",
       "      <td>1359541</td>\n",
       "      <td>B</td>\n",
       "      <td>489.555556</td>\n",
       "      <td>481.516484</td>\n",
       "      <td>481.547493</td>\n",
       "      <td>1</td>\n",
       "      <td>481.547493</td>\n",
       "    </tr>\n",
       "    <tr>\n",
       "      <th>2</th>\n",
       "      <td>1390240</td>\n",
       "      <td>B</td>\n",
       "      <td>471.233333</td>\n",
       "      <td>481.604396</td>\n",
       "      <td>481.565035</td>\n",
       "      <td>1</td>\n",
       "      <td>481.565035</td>\n",
       "    </tr>\n",
       "    <tr>\n",
       "      <th>3</th>\n",
       "      <td>1427091</td>\n",
       "      <td>A</td>\n",
       "      <td>482.922222</td>\n",
       "      <td>476.758242</td>\n",
       "      <td>476.763775</td>\n",
       "      <td>0</td>\n",
       "      <td>476.763775</td>\n",
       "    </tr>\n",
       "    <tr>\n",
       "      <th>4</th>\n",
       "      <td>1458667</td>\n",
       "      <td>A</td>\n",
       "      <td>466.933333</td>\n",
       "      <td>485.615385</td>\n",
       "      <td>485.559509</td>\n",
       "      <td>0</td>\n",
       "      <td>485.559509</td>\n",
       "    </tr>\n",
       "    <tr>\n",
       "      <th>...</th>\n",
       "      <td>...</td>\n",
       "      <td>...</td>\n",
       "      <td>...</td>\n",
       "      <td>...</td>\n",
       "      <td>...</td>\n",
       "      <td>...</td>\n",
       "      <td>...</td>\n",
       "    </tr>\n",
       "    <tr>\n",
       "      <th>995</th>\n",
       "      <td>99472728</td>\n",
       "      <td>A</td>\n",
       "      <td>480.044444</td>\n",
       "      <td>485.461538</td>\n",
       "      <td>485.456019</td>\n",
       "      <td>0</td>\n",
       "      <td>485.456019</td>\n",
       "    </tr>\n",
       "    <tr>\n",
       "      <th>996</th>\n",
       "      <td>99594911</td>\n",
       "      <td>A</td>\n",
       "      <td>473.122222</td>\n",
       "      <td>475.417582</td>\n",
       "      <td>475.385477</td>\n",
       "      <td>0</td>\n",
       "      <td>475.385477</td>\n",
       "    </tr>\n",
       "    <tr>\n",
       "      <th>997</th>\n",
       "      <td>99599226</td>\n",
       "      <td>A</td>\n",
       "      <td>487.755556</td>\n",
       "      <td>477.989011</td>\n",
       "      <td>478.013108</td>\n",
       "      <td>0</td>\n",
       "      <td>478.013108</td>\n",
       "    </tr>\n",
       "    <tr>\n",
       "      <th>998</th>\n",
       "      <td>99606020</td>\n",
       "      <td>A</td>\n",
       "      <td>470.822222</td>\n",
       "      <td>474.626374</td>\n",
       "      <td>474.585434</td>\n",
       "      <td>0</td>\n",
       "      <td>474.585434</td>\n",
       "    </tr>\n",
       "    <tr>\n",
       "      <th>999</th>\n",
       "      <td>99849005</td>\n",
       "      <td>A</td>\n",
       "      <td>485.922222</td>\n",
       "      <td>479.681319</td>\n",
       "      <td>479.698374</td>\n",
       "      <td>0</td>\n",
       "      <td>479.698374</td>\n",
       "    </tr>\n",
       "  </tbody>\n",
       "</table>\n",
       "<p>1000 rows × 7 columns</p>\n",
       "</div>"
      ],
      "text/plain": [
       "           id group  traffic_before  traffic_after  traffic_after_tilde  \\\n",
       "0     1188823     B      477.388889     493.472527           493.456809   \n",
       "1     1359541     B      489.555556     481.516484           481.547493   \n",
       "2     1390240     B      471.233333     481.604396           481.565035   \n",
       "3     1427091     A      482.922222     476.758242           476.763775   \n",
       "4     1458667     A      466.933333     485.615385           485.559509   \n",
       "..        ...   ...             ...            ...                  ...   \n",
       "995  99472728     A      480.044444     485.461538           485.456019   \n",
       "996  99594911     A      473.122222     475.417582           475.385477   \n",
       "997  99599226     A      487.755556     477.989011           478.013108   \n",
       "998  99606020     A      470.822222     474.626374           474.585434   \n",
       "999  99849005     A      485.922222     479.681319           479.698374   \n",
       "\n",
       "     treatment  traffic_after_cuped  \n",
       "0            1           493.456809  \n",
       "1            1           481.547493  \n",
       "2            1           481.565035  \n",
       "3            0           476.763775  \n",
       "4            0           485.559509  \n",
       "..         ...                  ...  \n",
       "995          0           485.456019  \n",
       "996          0           475.385477  \n",
       "997          0           478.013108  \n",
       "998          0           474.585434  \n",
       "999          0           479.698374  \n",
       "\n",
       "[1000 rows x 7 columns]"
      ]
     },
     "execution_count": 116,
     "metadata": {},
     "output_type": "execute_result"
    }
   ],
   "source": [
    "id_mean_df_final"
   ]
  },
  {
   "cell_type": "code",
   "execution_count": 107,
   "id": "81bbbcb1-cfd8-4278-bba3-b3b5dc834934",
   "metadata": {},
   "outputs": [],
   "source": [
    "id_mean_df_final['treatment'] = (id_mean_df_final['group']=='B').astype(int)"
   ]
  },
  {
   "cell_type": "code",
   "execution_count": 97,
   "id": "53d29e75-efcc-40bd-b36d-8bc234069891",
   "metadata": {},
   "outputs": [],
   "source": [
    "import statsmodels.formula.api as smf"
   ]
  },
  {
   "attachments": {},
   "cell_type": "markdown",
   "id": "b32b6cc0-ae16-44bb-bc30-6988b737c5b3",
   "metadata": {},
   "source": [
    "### Two similar ways to make Ŷ₁ᶜᵘᵖᵉᵈ (1 way)"
   ]
  },
  {
   "cell_type": "code",
   "execution_count": 128,
   "id": "c9b5e5ef-d51e-47f0-95f4-c11fc20ce29b",
   "metadata": {},
   "outputs": [],
   "source": [
    "## Regress Y₁ on Y₀ and compute the residuals Ỹ₁ + Compute Ŷ₁ᶜᵘᵖᵉᵈ = Ỹ₁ + Y̅₁\n",
    "id_mean_df_final['traffic_after_tilde'] = (\n",
    "    smf.ols(\n",
    "        'traffic_after ~ traffic_before', \n",
    "        data=id_mean_df_final\n",
    "    ).fit().resid + np.mean(id_mean_df_final['traffic_after'])\n",
    ")"
   ]
  },
  {
   "cell_type": "code",
   "execution_count": 129,
   "id": "bbd3a35a-dad4-44c9-94d6-a93f2bf0747a",
   "metadata": {},
   "outputs": [
    {
     "data": {
      "text/html": [
       "<table class=\"simpletable\">\n",
       "<tr>\n",
       "      <td></td>         <th>coef</th>     <th>std err</th>      <th>t</th>      <th>P>|t|</th>  <th>[0.025</th>    <th>0.975]</th>  \n",
       "</tr>\n",
       "<tr>\n",
       "  <th>Intercept</th> <td>  481.4049</td> <td>    0.259</td> <td> 1861.281</td> <td> 0.000</td> <td>  480.897</td> <td>  481.912</td>\n",
       "</tr>\n",
       "<tr>\n",
       "  <th>treatment</th> <td>   -0.2091</td> <td>    0.354</td> <td>   -0.591</td> <td> 0.555</td> <td>   -0.904</td> <td>    0.485</td>\n",
       "</tr>\n",
       "</table>"
      ],
      "text/plain": [
       "<class 'statsmodels.iolib.table.SimpleTable'>"
      ]
     },
     "execution_count": 129,
     "metadata": {},
     "output_type": "execute_result"
    }
   ],
   "source": [
    "smf.ols(\n",
    "    'traffic_after_tilde ~ treatment', data=id_mean_df_final\n",
    ").fit().summary().tables[1]"
   ]
  },
  {
   "attachments": {},
   "cell_type": "markdown",
   "id": "f512fe20-2b4b-47bc-9372-264fba3eba59",
   "metadata": {},
   "source": [
    "### Two similar ways to make Ŷ₁ᶜᵘᵖᵉᵈ (2 way)"
   ]
  },
  {
   "cell_type": "code",
   "execution_count": 131,
   "id": "c594f8cd-f45a-4ebd-8f72-8dfbef25f123",
   "metadata": {},
   "outputs": [
    {
     "name": "stdout",
     "output_type": "stream",
     "text": [
      "Theta:-0.003840712466685714\n"
     ]
    },
    {
     "data": {
      "text/plain": [
       "-0.0038407124666847378"
      ]
     },
     "execution_count": 131,
     "metadata": {},
     "output_type": "execute_result"
    }
   ],
   "source": [
    "### Regression of Y₁ ~ Y₀ and theta estimation\n",
    "theta = smf.ols('traffic_after ~ traffic_before', data=id_mean_df_final).fit().params[1]\n",
    "print(f'Theta:{theta}')\n",
    "\n",
    "np.cov(\n",
    "    id_mean_df_final.traffic_after, \n",
    "    id_mean_df_final.traffic_before\n",
    ")[0][1]/(id_mean_df_final.traffic_before.var())"
   ]
  },
  {
   "cell_type": "code",
   "execution_count": 132,
   "id": "10c3e960-ff7c-4cb3-935d-2c1e820c3c7d",
   "metadata": {},
   "outputs": [],
   "source": [
    "###  Ŷ₁ᶜᵘᵖᵉᵈ = Y̅₁ − θ̂ Y̅₀\n",
    "id_mean_df_final['traffic_after_cuped'] = (\n",
    "    id_mean_df_final['traffic_after'] - theta * (id_mean_df_final['traffic_before'] - np.mean(id_mean_df_final['traffic_before']))\n",
    ")"
   ]
  },
  {
   "cell_type": "code",
   "execution_count": 133,
   "id": "d3ec9782-79fb-4549-9bb5-c87f448f6ee4",
   "metadata": {},
   "outputs": [
    {
     "data": {
      "text/html": [
       "<table class=\"simpletable\">\n",
       "<tr>\n",
       "      <td></td>         <th>coef</th>     <th>std err</th>      <th>t</th>      <th>P>|t|</th>  <th>[0.025</th>    <th>0.975]</th>  \n",
       "</tr>\n",
       "<tr>\n",
       "  <th>Intercept</th> <td>  481.4049</td> <td>    0.259</td> <td> 1861.281</td> <td> 0.000</td> <td>  480.897</td> <td>  481.912</td>\n",
       "</tr>\n",
       "<tr>\n",
       "  <th>treatment</th> <td>   -0.2091</td> <td>    0.354</td> <td>   -0.591</td> <td> 0.555</td> <td>   -0.904</td> <td>    0.485</td>\n",
       "</tr>\n",
       "</table>"
      ],
      "text/plain": [
       "<class 'statsmodels.iolib.table.SimpleTable'>"
      ]
     },
     "execution_count": 133,
     "metadata": {},
     "output_type": "execute_result"
    }
   ],
   "source": [
    "smf.ols('traffic_after_cuped ~ treatment', data=id_mean_df_final).fit().summary().tables[1]"
   ]
  },
  {
   "cell_type": "code",
   "execution_count": null,
   "id": "11af497a-5879-44de-830b-54ea90b3de2a",
   "metadata": {},
   "outputs": [],
   "source": []
  }
 ],
 "metadata": {
  "kernelspec": {
   "display_name": "Python 3 (ipykernel)",
   "language": "python",
   "name": "python3"
  },
  "language_info": {
   "codemirror_mode": {
    "name": "ipython",
    "version": 3
   },
   "file_extension": ".py",
   "mimetype": "text/x-python",
   "name": "python",
   "nbconvert_exporter": "python",
   "pygments_lexer": "ipython3",
   "version": "3.11.1"
  }
 },
 "nbformat": 4,
 "nbformat_minor": 5
}
